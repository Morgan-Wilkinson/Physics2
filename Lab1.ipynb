{
  "nbformat": 4,
  "nbformat_minor": 0,
  "metadata": {
    "colab": {
      "name": "Lab 1.ipynb",
      "provenance": [],
      "collapsed_sections": [],
      "authorship_tag": "ABX9TyO3+1+sOR7mMew5xOktJcTz",
      "include_colab_link": true
    },
    "kernelspec": {
      "name": "python3",
      "display_name": "Python 3"
    }
  },
  "cells": [
    {
      "cell_type": "markdown",
      "metadata": {
        "id": "view-in-github",
        "colab_type": "text"
      },
      "source": [
        "<a href=\"https://colab.research.google.com/github/Morgan-Wilkinson/Physics2/blob/master/Lab1.ipynb\" target=\"_parent\"><img src=\"https://colab.research.google.com/assets/colab-badge.svg\" alt=\"Open In Colab\"/></a>"
      ]
    },
    {
      "cell_type": "code",
      "metadata": {
        "id": "Y2yihhHg1V0x"
      },
      "source": [
        "import numpy as np                   # numpy does math\n",
        "import matplotlib.pyplot as plt      # pyplot makes plots\n",
        "import pandas as pd                  # pandas as pd\n",
        "import csv"
      ],
      "execution_count": null,
      "outputs": []
    },
    {
      "cell_type": "code",
      "metadata": {
        "id": "GzGafgh92y-6",
        "outputId": "f253e27f-11af-4eea-cf41-08c4cf15e05c",
        "colab": {
          "base_uri": "https://localhost:8080/",
          "height": 265
        }
      },
      "source": [
        "dataset1 = 'https://raw.githubusercontent.com/Morgan-Wilkinson/Physics2/master/Magnetometer%201.csv'\n",
        "colnames = ['Time', 'X', 'Y', 'Z', 'Abs']\n",
        "data = pd.read_csv(dataset1, names=colnames)\n",
        "X = data.X.tolist()\n",
        "Y = data.Y.tolist()\n",
        "Z = data.Z.tolist()\n",
        "Abs = data.Abs.tolist()\n",
        "\n",
        "\n",
        "plt.hist((X, Y, Z, Abs), bins=5, color=('pink', 'purple', 'red', 'blue'));\n"
      ],
      "execution_count": null,
      "outputs": [
        {
          "output_type": "display_data",
          "data": {
            "image/png": "[encoded data removed]",
            "text/plain": [
              "<Figure size 432x288 with 1 Axes>"
            ]
          },
          "metadata": {
            "tags": [],
            "needs_background": "light"
          }
        }
      ]
    },
    {
      "cell_type": "code",
      "metadata": {
        "id": "_eCMOSQqCv2R",
        "outputId": "efaf0378-829e-45ee-ddfd-b422fd52b9c8",
        "colab": {
          "base_uri": "https://localhost:8080/",
          "height": 34
        }
      },
      "source": [
        "x_mean = np.mean(X)\n",
        "x_mean "
      ],
      "execution_count": 42,
      "outputs": [
        {
          "output_type": "execute_result",
          "data": {
            "text/plain": [
              "1.0636408557740857"
            ]
          },
          "metadata": {
            "tags": []
          },
          "execution_count": 42
        }
      ]
    },
    {
      "cell_type": "code",
      "metadata": {
        "id": "S4ctXcB2DNj5",
        "outputId": "f939fc18-3222-47ac-e835-76177d3682ae",
        "colab": {
          "base_uri": "https://localhost:8080/",
          "height": 34
        }
      },
      "source": [
        "y_mean = np.mean(Y)\n",
        "y_mean "
      ],
      "execution_count": 43,
      "outputs": [
        {
          "output_type": "execute_result",
          "data": {
            "text/plain": [
              "-1.6047327843632049"
            ]
          },
          "metadata": {
            "tags": []
          },
          "execution_count": 43
        }
      ]
    },
    {
      "cell_type": "code",
      "metadata": {
        "id": "gvGLM8OWEbWo",
        "outputId": "27122319-46dd-4381-d38b-337d72f9de9b",
        "colab": {
          "base_uri": "https://localhost:8080/",
          "height": 34
        }
      },
      "source": [
        "z_mean = np.mean(Z)\n",
        "z_mean "
      ],
      "execution_count": 60,
      "outputs": [
        {
          "output_type": "execute_result",
          "data": {
            "text/plain": [
              "-35.296286523871416"
            ]
          },
          "metadata": {
            "tags": []
          },
          "execution_count": 60
        }
      ]
    },
    {
      "cell_type": "code",
      "metadata": {
        "id": "iHKv9AmTE3Al",
        "outputId": "7b576967-f5a8-4849-ea02-bcb1771c23ff",
        "colab": {
          "base_uri": "https://localhost:8080/",
          "height": 34
        }
      },
      "source": [
        "x_stdev = np.std(X)      # finds the standard deviation\n",
        "x_stdev"
      ],
      "execution_count": 50,
      "outputs": [
        {
          "output_type": "execute_result",
          "data": {
            "text/plain": [
              "15.420535383448039"
            ]
          },
          "metadata": {
            "tags": []
          },
          "execution_count": 50
        }
      ]
    },
    {
      "cell_type": "code",
      "metadata": {
        "id": "8JuDePyYFIEu",
        "outputId": "3917a82a-1986-4600-f08d-761234656bba",
        "colab": {
          "base_uri": "https://localhost:8080/",
          "height": 34
        }
      },
      "source": [
        "y_stdev = np.std(Y)      # finds the standard deviation\n",
        "y_stdev"
      ],
      "execution_count": 48,
      "outputs": [
        {
          "output_type": "execute_result",
          "data": {
            "text/plain": [
              "18.924942365463394"
            ]
          },
          "metadata": {
            "tags": []
          },
          "execution_count": 48
        }
      ]
    },
    {
      "cell_type": "code",
      "metadata": {
        "id": "LjsSKBO7FJ0-",
        "outputId": "0abe61ef-60dd-4a95-8219-c7d06edda24e",
        "colab": {
          "base_uri": "https://localhost:8080/",
          "height": 34
        }
      },
      "source": [
        "z_stdev = np.std(Z)      # finds the standard deviation\n",
        "z_stdev"
      ],
      "execution_count": 49,
      "outputs": [
        {
          "output_type": "execute_result",
          "data": {
            "text/plain": [
              "3.039825050236639"
            ]
          },
          "metadata": {
            "tags": []
          },
          "execution_count": 49
        }
      ]
    },
    {
      "cell_type": "code",
      "metadata": {
        "id": "hD8ny_zhFPj-",
        "outputId": "ec99ed51-041c-4765-a38a-d8e6a1774860",
        "colab": {
          "base_uri": "https://localhost:8080/",
          "height": 34
        }
      },
      "source": [
        "x_count = len(X)      # \"a_count\" is now a variable with the number of observations in sample a\n",
        "x_count"
      ],
      "execution_count": 51,
      "outputs": [
        {
          "output_type": "execute_result",
          "data": {
            "text/plain": [
              "5055"
            ]
          },
          "metadata": {
            "tags": []
          },
          "execution_count": 51
        }
      ]
    },
    {
      "cell_type": "code",
      "metadata": {
        "id": "xxC-W87zFTVu",
        "outputId": "8752db4e-ccf5-4f52-be24-037d98164864",
        "colab": {
          "base_uri": "https://localhost:8080/",
          "height": 34
        }
      },
      "source": [
        "y_count = len(Y)      # \"a_count\" is now a variable with the number of observations in sample a\n",
        "y_count"
      ],
      "execution_count": 52,
      "outputs": [
        {
          "output_type": "execute_result",
          "data": {
            "text/plain": [
              "5055"
            ]
          },
          "metadata": {
            "tags": []
          },
          "execution_count": 52
        }
      ]
    },
    {
      "cell_type": "code",
      "metadata": {
        "id": "TyXFkLlnFWsA",
        "outputId": "a4cfa871-c9af-4743-f12a-037e50d0e604",
        "colab": {
          "base_uri": "https://localhost:8080/",
          "height": 34
        }
      },
      "source": [
        "z_count = len(Z)      # \"a_count\" is now a variable with the number of observations in sample a\n",
        "z_count"
      ],
      "execution_count": 53,
      "outputs": [
        {
          "output_type": "execute_result",
          "data": {
            "text/plain": [
              "5055"
            ]
          },
          "metadata": {
            "tags": []
          },
          "execution_count": 53
        }
      ]
    },
    {
      "cell_type": "code",
      "metadata": {
        "id": "R3B1EVq5FbO-",
        "outputId": "87fe83ef-7681-4a56-bf30-84cfaaed6502",
        "colab": {
          "base_uri": "https://localhost:8080/",
          "height": 34
        }
      },
      "source": [
        "# finding standard uncertainty\n",
        "x_stunc = x_stdev / np.sqrt(x_count)       # python can do algebra\n",
        "x_stunc"
      ],
      "execution_count": 54,
      "outputs": [
        {
          "output_type": "execute_result",
          "data": {
            "text/plain": [
              "0.21688967212346127"
            ]
          },
          "metadata": {
            "tags": []
          },
          "execution_count": 54
        }
      ]
    },
    {
      "cell_type": "code",
      "metadata": {
        "id": "QG6_NC8cFf1w",
        "outputId": "2fb09121-f549-4216-c421-a070e8cb6bc3",
        "colab": {
          "base_uri": "https://localhost:8080/",
          "height": 34
        }
      },
      "source": [
        "y_stunc = y_stdev / np.sqrt(y_count)       # python can do algebra\n",
        "y_stunc"
      ],
      "execution_count": 55,
      "outputs": [
        {
          "output_type": "execute_result",
          "data": {
            "text/plain": [
              "0.2661791204089155"
            ]
          },
          "metadata": {
            "tags": []
          },
          "execution_count": 55
        }
      ]
    },
    {
      "cell_type": "code",
      "metadata": {
        "id": "kN-hk9q0FiOn",
        "outputId": "6d9440cd-3228-4012-b08b-cb57e724cc36",
        "colab": {
          "base_uri": "https://localhost:8080/",
          "height": 34
        }
      },
      "source": [
        "z_stunc = z_stdev / np.sqrt(z_count)       # python can do algebra\n",
        "z_stunc"
      ],
      "execution_count": 56,
      "outputs": [
        {
          "output_type": "execute_result",
          "data": {
            "text/plain": [
              "0.042755108176476785"
            ]
          },
          "metadata": {
            "tags": []
          },
          "execution_count": 56
        }
      ]
    },
    {
      "cell_type": "code",
      "metadata": {
        "id": "des9I73xFlBV",
        "outputId": "b193b893-fe70-42fd-a85d-8bb8f2e6f5cc",
        "colab": {
          "base_uri": "https://localhost:8080/",
          "height": 34
        }
      },
      "source": [
        "# tXY' statistic\n",
        "tXY_prime = (x_mean - y_mean) / np.sqrt(x_stunc**2 + y_stunc**2)\n",
        "tXY_prime"
      ],
      "execution_count": 63,
      "outputs": [
        {
          "output_type": "execute_result",
          "data": {
            "text/plain": [
              "7.771478284208496"
            ]
          },
          "metadata": {
            "tags": []
          },
          "execution_count": 63
        }
      ]
    },
    {
      "cell_type": "code",
      "metadata": {
        "id": "x4qABMIYGL5j",
        "outputId": "e8d6d164-91eb-4017-8be4-a948606a3d54",
        "colab": {
          "base_uri": "https://localhost:8080/",
          "height": 34
        }
      },
      "source": [
        "# tXZ' statistic\n",
        "tXZ_prime = (x_mean - z_mean) / np.sqrt(x_stunc**2 + z_stunc**2)\n",
        "tXZ_prime"
      ],
      "execution_count": 64,
      "outputs": [
        {
          "output_type": "execute_result",
          "data": {
            "text/plain": [
              "164.47720116362987"
            ]
          },
          "metadata": {
            "tags": []
          },
          "execution_count": 64
        }
      ]
    },
    {
      "cell_type": "code",
      "metadata": {
        "id": "6vjJH1nEGkAI",
        "outputId": "12859981-237e-45de-b74d-6f1eba89fdfe",
        "colab": {
          "base_uri": "https://localhost:8080/",
          "height": 34
        }
      },
      "source": [
        "# tYZ' statistic\n",
        "tYZ_prime = (y_mean - z_mean) / np.sqrt(y_stunc**2 + z_stunc**2)\n",
        "tYZ_prime"
      ],
      "execution_count": 65,
      "outputs": [
        {
          "output_type": "execute_result",
          "data": {
            "text/plain": [
              "124.97282920982273"
            ]
          },
          "metadata": {
            "tags": []
          },
          "execution_count": 65
        }
      ]
    }
  ]
}