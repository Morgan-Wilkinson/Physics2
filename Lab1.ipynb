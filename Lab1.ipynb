{
  "nbformat": 4,
  "nbformat_minor": 0,
  "metadata": {
    "colab": {
      "name": "Lab 1.ipynb",
      "provenance": [],
      "collapsed_sections": [],
      "authorship_tag": "ABX9TyMcu2GuoJwv1/GaJvvXUMcU",
      "include_colab_link": true
    },
    "kernelspec": {
      "name": "python3",
      "display_name": "Python 3"
    }
  },
  "cells": [
    {
      "cell_type": "markdown",
      "metadata": {
        "id": "view-in-github",
        "colab_type": "text"
      },
      "source": [
        "<a href=\"https://colab.research.google.com/github/Morgan-Wilkinson/Physics2/blob/master/Lab1.ipynb\" target=\"_parent\"><img src=\"https://colab.research.google.com/assets/colab-badge.svg\" alt=\"Open In Colab\"/></a>"
      ]
    },
    {
      "cell_type": "code",
      "metadata": {
        "id": "Y2yihhHg1V0x"
      },
      "source": [
        "import numpy as np                   # numpy does math\n",
        "import matplotlib.pyplot as plt      # pyplot makes plots\n",
        "import pandas as pd                  # pandas as pd\n",
        "import csv"
      ],
      "execution_count": 23,
      "outputs": []
    },
    {
      "cell_type": "code",
      "metadata": {
        "id": "GzGafgh92y-6",
        "outputId": "f253e27f-11af-4eea-cf41-08c4cf15e05c",
        "colab": {
          "base_uri": "https://localhost:8080/",
          "height": 265
        }
      },
      "source": [
        "dataset1 = 'https://raw.githubusercontent.com/Morgan-Wilkinson/Physics2/master/Magnetometer%201.csv'\n",
        "colnames = ['Time', 'X', 'Y', 'Z', 'Abs']\n",
        "data = pd.read_csv(dataset1, names=colnames)\n",
        "X = data.X.tolist()\n",
        "Y = data.Y.tolist()\n",
        "Z = data.Z.tolist()\n",
        "Abs = data.Abs.tolist()\n",
        "\n",
        "\n",
        "plt.hist((X, Y, Z, Abs), bins=5, color=('pink', 'purple', 'red', 'blue'));\n"
      ],
      "execution_count": 39,
      "outputs": [
        {
          "output_type": "display_data",
          "data": {
            "image/png": "[encoded data removed]",
            "text/plain": [
              "<Figure size 432x288 with 1 Axes>"
            ]
          },
          "metadata": {
            "tags": [],
            "needs_background": "light"
          }
        }
      ]
    },
    {
      "cell_type": "code",
      "metadata": {
        "id": "_eCMOSQqCv2R",
        "outputId": "4ba96e6f-fc64-48ac-edb5-6e1f7e92a13b",
        "colab": {
          "base_uri": "https://localhost:8080/",
          "height": 34
        }
      },
      "source": [
        "x_mean = np.mean(X)\n",
        "x_mean "
      ],
      "execution_count": 37,
      "outputs": [
        {
          "output_type": "execute_result",
          "data": {
            "text/plain": [
              "1.0636408557740857"
            ]
          },
          "metadata": {
            "tags": []
          },
          "execution_count": 37
        }
      ]
    },
    {
      "cell_type": "code",
      "metadata": {
        "id": "S4ctXcB2DNj5",
        "outputId": "4090ade1-ce3e-446f-a1fb-1ee5a0d2a9bc",
        "colab": {
          "base_uri": "https://localhost:8080/"
        }
      },
      "source": [
        "y_mean = np.mean(Y)\n",
        "y_mean "
      ],
      "execution_count": 40,
      "outputs": [
        {
          "output_type": "execute_result",
          "data": {
            "text/plain": [
              "-1.6047327843632049"
            ]
          },
          "metadata": {
            "tags": []
          },
          "execution_count": 40
        }
      ]
    },
    {
      "cell_type": "code",
      "metadata": {
        "id": "gvGLM8OWEbWo",
        "outputId": "58b768f3-19a1-4437-db97-6547bbc18f6c",
        "colab": {
          "base_uri": "https://localhost:8080/",
          "height": 34
        }
      },
      "source": [
        "Z_mean = np.mean(Z)\n",
        "Z_mean "
      ],
      "execution_count": 41,
      "outputs": [
        {
          "output_type": "execute_result",
          "data": {
            "text/plain": [
              "-35.296286523871416"
            ]
          },
          "metadata": {
            "tags": []
          },
          "execution_count": 41
        }
      ]
    }
  ]
}