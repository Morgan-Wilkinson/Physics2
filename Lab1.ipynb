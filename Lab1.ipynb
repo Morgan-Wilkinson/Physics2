{
  "nbformat": 4,
  "nbformat_minor": 0,
  "metadata": {
    "colab": {
      "name": "Lab 1.ipynb",
      "provenance": [],
      "collapsed_sections": [],
      "authorship_tag": "ABX9TyOwHWYOfOLPwET168TAAcFO",
      "include_colab_link": true
    },
    "kernelspec": {
      "name": "python3",
      "display_name": "Python 3"
    }
  },
  "cells": [
    {
      "cell_type": "markdown",
      "metadata": {
        "id": "view-in-github",
        "colab_type": "text"
      },
      "source": [
        "<a href=\"https://colab.research.google.com/github/Morgan-Wilkinson/Physics2/blob/master/Lab1.ipynb\" target=\"_parent\"><img src=\"https://colab.research.google.com/assets/colab-badge.svg\" alt=\"Open In Colab\"/></a>"
      ]
    },
    {
      "cell_type": "code",
      "metadata": {
        "id": "Y2yihhHg1V0x"
      },
      "source": [
        "import numpy as np                   # numpy does math\n",
        "import matplotlib.pyplot as plt      # pyplot makes plots\n",
        "import pandas as pd                  # pandas as pd"
      ],
      "execution_count": 71,
      "outputs": []
    },
    {
      "cell_type": "code",
      "metadata": {
        "id": "GzGafgh92y-6",
        "outputId": "f1b73f66-d888-4d2b-dd5a-ab7986d86a16",
        "colab": {
          "base_uri": "https://localhost:8080/",
          "height": 265
        }
      },
      "source": [
        "dataset1 = 'https://raw.githubusercontent.com/Morgan-Wilkinson/Physics2/master/Magnetometer%201.csv'\n",
        "colnames = ['Time', 'X', 'Y', 'Z', 'Abs']\n",
        "data = pd.read_csv(dataset1, names=colnames)\n",
        "X = data.X.tolist()\n",
        "Y = data.Y.tolist()\n",
        "Z = data.Z.tolist()\n",
        "Abs = data.Abs.tolist()\n",
        "\n",
        "\n",
        "plt.hist((X, Y, Z, Abs), bins=5, color=('pink', 'purple', 'red', 'blue'));\n"
      ],
      "execution_count": 72,
      "outputs": [
        {
          "output_type": "display_data",
          "data": {
            "image/png": "[encoded data removed]",
            "text/plain": [
              "<Figure size 432x288 with 1 Axes>"
            ]
          },
          "metadata": {
            "tags": [],
            "needs_background": "light"
          }
        }
      ]
    },
    {
      "cell_type": "code",
      "metadata": {
        "id": "_eCMOSQqCv2R",
        "outputId": "abc6950a-71a6-4139-a669-3b88564191c4",
        "colab": {
          "base_uri": "https://localhost:8080/",
          "height": 34
        }
      },
      "source": [
        "# Means for X, Y and Z\n",
        "x_mean = np.mean(X)\n",
        "x_mean "
      ],
      "execution_count": 73,
      "outputs": [
        {
          "output_type": "execute_result",
          "data": {
            "text/plain": [
              "1.0636408557740857"
            ]
          },
          "metadata": {
            "tags": []
          },
          "execution_count": 73
        }
      ]
    },
    {
      "cell_type": "code",
      "metadata": {
        "id": "S4ctXcB2DNj5",
        "outputId": "f5580b3d-37ed-4c5d-e975-a3b81e142eb2",
        "colab": {
          "base_uri": "https://localhost:8080/",
          "height": 34
        }
      },
      "source": [
        "y_mean = np.mean(Y)\n",
        "y_mean "
      ],
      "execution_count": 74,
      "outputs": [
        {
          "output_type": "execute_result",
          "data": {
            "text/plain": [
              "-1.6047327843632049"
            ]
          },
          "metadata": {
            "tags": []
          },
          "execution_count": 74
        }
      ]
    },
    {
      "cell_type": "code",
      "metadata": {
        "id": "gvGLM8OWEbWo",
        "outputId": "6b0b8d84-aaeb-495e-bf3a-1d5365f0d205",
        "colab": {
          "base_uri": "https://localhost:8080/",
          "height": 34
        }
      },
      "source": [
        "z_mean = np.mean(Z)\n",
        "z_mean "
      ],
      "execution_count": 75,
      "outputs": [
        {
          "output_type": "execute_result",
          "data": {
            "text/plain": [
              "-35.296286523871416"
            ]
          },
          "metadata": {
            "tags": []
          },
          "execution_count": 75
        }
      ]
    },
    {
      "cell_type": "code",
      "metadata": {
        "id": "iHKv9AmTE3Al",
        "outputId": "acaaec15-f37a-418c-f06a-28f4353a4f7a",
        "colab": {
          "base_uri": "https://localhost:8080/",
          "height": 34
        }
      },
      "source": [
        "# Standard Deviations for X, Y and Z\n",
        "x_stdev = np.std(X)      # finds the standard deviation\n",
        "x_stdev"
      ],
      "execution_count": 76,
      "outputs": [
        {
          "output_type": "execute_result",
          "data": {
            "text/plain": [
              "15.420535383448039"
            ]
          },
          "metadata": {
            "tags": []
          },
          "execution_count": 76
        }
      ]
    },
    {
      "cell_type": "code",
      "metadata": {
        "id": "8JuDePyYFIEu",
        "outputId": "680da801-c3a9-4e59-9128-3c4f00b8f26f",
        "colab": {
          "base_uri": "https://localhost:8080/",
          "height": 34
        }
      },
      "source": [
        "y_stdev = np.std(Y)      # finds the standard deviation\n",
        "y_stdev"
      ],
      "execution_count": 77,
      "outputs": [
        {
          "output_type": "execute_result",
          "data": {
            "text/plain": [
              "18.924942365463394"
            ]
          },
          "metadata": {
            "tags": []
          },
          "execution_count": 77
        }
      ]
    },
    {
      "cell_type": "code",
      "metadata": {
        "id": "LjsSKBO7FJ0-",
        "outputId": "a787a252-9a5c-4d4b-e610-ace608927652",
        "colab": {
          "base_uri": "https://localhost:8080/",
          "height": 34
        }
      },
      "source": [
        "z_stdev = np.std(Z)      # finds the standard deviation\n",
        "z_stdev"
      ],
      "execution_count": 78,
      "outputs": [
        {
          "output_type": "execute_result",
          "data": {
            "text/plain": [
              "3.039825050236639"
            ]
          },
          "metadata": {
            "tags": []
          },
          "execution_count": 78
        }
      ]
    },
    {
      "cell_type": "code",
      "metadata": {
        "id": "hD8ny_zhFPj-",
        "outputId": "e1e1b62e-7436-432a-fa62-e9d1431de49a",
        "colab": {
          "base_uri": "https://localhost:8080/",
          "height": 34
        }
      },
      "source": [
        "# Counts for X, Y and Z\n",
        "x_count = len(X)      # \"a_count\" is now a variable with the number of observations in sample a\n",
        "x_count"
      ],
      "execution_count": 79,
      "outputs": [
        {
          "output_type": "execute_result",
          "data": {
            "text/plain": [
              "5055"
            ]
          },
          "metadata": {
            "tags": []
          },
          "execution_count": 79
        }
      ]
    },
    {
      "cell_type": "code",
      "metadata": {
        "id": "xxC-W87zFTVu",
        "outputId": "98d6905d-8c3a-4aa5-a111-27916bbf82db",
        "colab": {
          "base_uri": "https://localhost:8080/",
          "height": 34
        }
      },
      "source": [
        "y_count = len(Y)      # \"a_count\" is now a variable with the number of observations in sample a\n",
        "y_count"
      ],
      "execution_count": 80,
      "outputs": [
        {
          "output_type": "execute_result",
          "data": {
            "text/plain": [
              "5055"
            ]
          },
          "metadata": {
            "tags": []
          },
          "execution_count": 80
        }
      ]
    },
    {
      "cell_type": "code",
      "metadata": {
        "id": "TyXFkLlnFWsA",
        "outputId": "0b53c012-4d5c-45d5-cd48-ccb9ca8c930d",
        "colab": {
          "base_uri": "https://localhost:8080/",
          "height": 34
        }
      },
      "source": [
        "z_count = len(Z)      # \"a_count\" is now a variable with the number of observations in sample a\n",
        "z_count"
      ],
      "execution_count": 81,
      "outputs": [
        {
          "output_type": "execute_result",
          "data": {
            "text/plain": [
              "5055"
            ]
          },
          "metadata": {
            "tags": []
          },
          "execution_count": 81
        }
      ]
    },
    {
      "cell_type": "code",
      "metadata": {
        "id": "R3B1EVq5FbO-",
        "outputId": "029b35df-5f06-4a74-8b86-0cd571761ac9",
        "colab": {
          "base_uri": "https://localhost:8080/",
          "height": 34
        }
      },
      "source": [
        "# finding standard uncertainty for X, Y and Z\n",
        "x_stunc = x_stdev / np.sqrt(x_count)       # python can do algebra\n",
        "x_stunc"
      ],
      "execution_count": 82,
      "outputs": [
        {
          "output_type": "execute_result",
          "data": {
            "text/plain": [
              "0.21688967212346127"
            ]
          },
          "metadata": {
            "tags": []
          },
          "execution_count": 82
        }
      ]
    },
    {
      "cell_type": "code",
      "metadata": {
        "id": "QG6_NC8cFf1w",
        "outputId": "7f0cca22-fb84-44f4-c853-cf125c5ca12c",
        "colab": {
          "base_uri": "https://localhost:8080/",
          "height": 34
        }
      },
      "source": [
        "y_stunc = y_stdev / np.sqrt(y_count)       # python can do algebra\n",
        "y_stunc"
      ],
      "execution_count": 83,
      "outputs": [
        {
          "output_type": "execute_result",
          "data": {
            "text/plain": [
              "0.2661791204089155"
            ]
          },
          "metadata": {
            "tags": []
          },
          "execution_count": 83
        }
      ]
    },
    {
      "cell_type": "code",
      "metadata": {
        "id": "kN-hk9q0FiOn",
        "outputId": "79a1f2bf-ed4c-4b76-bdd9-e9f38abe05ec",
        "colab": {
          "base_uri": "https://localhost:8080/",
          "height": 34
        }
      },
      "source": [
        "z_stunc = z_stdev / np.sqrt(z_count)       # python can do algebra\n",
        "z_stunc"
      ],
      "execution_count": 84,
      "outputs": [
        {
          "output_type": "execute_result",
          "data": {
            "text/plain": [
              "0.042755108176476785"
            ]
          },
          "metadata": {
            "tags": []
          },
          "execution_count": 84
        }
      ]
    },
    {
      "cell_type": "code",
      "metadata": {
        "id": "des9I73xFlBV",
        "outputId": "f41bccb5-6e62-44ea-85e7-216e3426dc94",
        "colab": {
          "base_uri": "https://localhost:8080/",
          "height": 34
        }
      },
      "source": [
        "# T' statistics for XY, XZ, YZ\n",
        "# tXY' statistic\n",
        "tXY_prime = (x_mean - y_mean) / np.sqrt(x_stunc**2 + y_stunc**2)\n",
        "tXY_prime"
      ],
      "execution_count": 85,
      "outputs": [
        {
          "output_type": "execute_result",
          "data": {
            "text/plain": [
              "7.771478284208496"
            ]
          },
          "metadata": {
            "tags": []
          },
          "execution_count": 85
        }
      ]
    },
    {
      "cell_type": "code",
      "metadata": {
        "id": "x4qABMIYGL5j",
        "outputId": "c1164eec-047c-4139-945a-5830231f3581",
        "colab": {
          "base_uri": "https://localhost:8080/",
          "height": 34
        }
      },
      "source": [
        "# tXZ' statistic\n",
        "tXZ_prime = (x_mean - z_mean) / np.sqrt(x_stunc**2 + z_stunc**2)\n",
        "tXZ_prime"
      ],
      "execution_count": 86,
      "outputs": [
        {
          "output_type": "execute_result",
          "data": {
            "text/plain": [
              "164.47720116362987"
            ]
          },
          "metadata": {
            "tags": []
          },
          "execution_count": 86
        }
      ]
    },
    {
      "cell_type": "code",
      "metadata": {
        "id": "6vjJH1nEGkAI",
        "outputId": "0d86359d-bf75-4c28-e11b-d3a869f513f1",
        "colab": {
          "base_uri": "https://localhost:8080/",
          "height": 34
        }
      },
      "source": [
        "# tYZ' statistic\n",
        "tYZ_prime = (y_mean - z_mean) / np.sqrt(y_stunc**2 + z_stunc**2)\n",
        "tYZ_prime"
      ],
      "execution_count": 87,
      "outputs": [
        {
          "output_type": "execute_result",
          "data": {
            "text/plain": [
              "124.97282920982273"
            ]
          },
          "metadata": {
            "tags": []
          },
          "execution_count": 87
        }
      ]
    }
  ]
}